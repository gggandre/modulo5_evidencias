{
 "cells": [
  {
   "cell_type": "markdown",
   "id": "c00c2f78",
   "metadata": {},
   "source": [
    "\n",
    "    # Análisis de Series Temporales de Productos de Amazon\n",
    "\n",
    "    Este notebook presenta un análisis de los lanzamientos de productos de Amazon a lo largo de los años. El objetivo es entender la tendencia, estacionalidad y homocedasticidad de la serie temporal, y proponer un modelo ARIMA adecuado para su modelado.\n",
    "\n",
    "    ## Exploración Inicial de los Datos\n",
    "    "
   ]
  },
  {
   "cell_type": "code",
   "execution_count": null,
   "id": "d6fb53e9",
   "metadata": {},
   "outputs": [],
   "source": [
    "\n",
    "import pandas as pd\n",
    "\n",
    "# Cargar los datos\n",
    "file_path = 'Amazon Products - Sheet1.csv'\n",
    "data = pd.read_csv(file_path)\n",
    "\n",
    "# Mostrar las primeras filas\n",
    "data.head()\n",
    "    "
   ]
  },
  {
   "cell_type": "markdown",
   "id": "9e3e770d",
   "metadata": {},
   "source": [
    "\n",
    "    ## Transformación de los Datos en Serie Temporal\n",
    "\n",
    "    Transformamos los datos para crear una serie temporal que represente el número de lanzamientos de productos por año.\n",
    "    "
   ]
  },
  {
   "cell_type": "code",
   "execution_count": null,
   "id": "bad178b5",
   "metadata": {},
   "outputs": [],
   "source": [
    "\n",
    "import matplotlib.pyplot as plt\n",
    "import seaborn as sns\n",
    "\n",
    "# Crear la serie temporal\n",
    "product_launches_per_year = data['Launch Year'].value_counts().sort_index()\n",
    "\n",
    "# Graficar la serie temporal\n",
    "sns.set(style=\"whitegrid\")\n",
    "plt.figure(figsize=(10, 6))\n",
    "product_launches_per_year.plot(kind='line')\n",
    "plt.title('Número de Lanzamientos de Productos de Amazon por Año')\n",
    "plt.xlabel('Año')\n",
    "plt.ylabel('Cantidad de Lanzamientos')\n",
    "plt.grid(True)\n",
    "plt.show()\n",
    "    "
   ]
  },
  {
   "cell_type": "markdown",
   "id": "352a3514",
   "metadata": {},
   "source": [
    "\n",
    "    ## Análisis de Tendencia y Estacionalidad\n",
    "\n",
    "    Realizamos una descomposición de la serie temporal para identificar la tendencia y la estacionalidad.\n",
    "    "
   ]
  },
  {
   "cell_type": "code",
   "execution_count": null,
   "id": "011a7571",
   "metadata": {},
   "outputs": [],
   "source": [
    "\n",
    "from statsmodels.tsa.seasonal import seasonal_decompose\n",
    "\n",
    "# Descomposición de la serie temporal\n",
    "decomposition = seasonal_decompose(product_launches_per_year, model='additive')\n",
    "\n",
    "# Graficar la descomposición\n",
    "plt.figure(figsize=(14, 8))\n",
    "plt.subplot(411)\n",
    "plt.plot(decomposition.trend, label='Tendencia')\n",
    "plt.legend(loc='best')\n",
    "plt.xticks(rotation=45)\n",
    "plt.subplot(412)\n",
    "plt.plot(decomposition.seasonal, label='Estacionalidad')\n",
    "plt.legend(loc='best')\n",
    "plt.xticks(rotation=45)\n",
    "plt.subplot(413)\n",
    "plt.plot(decomposition.resid, label='Residual')\n",
    "plt.legend(loc='best')\n",
    "plt.xticks(rotation=45)\n",
    "plt.subplot(414)\n",
    "plt.plot(product_launches_per_year, label='Observado')\n",
    "plt.legend(loc='best')\n",
    "plt.xticks(rotation=45)\n",
    "plt.tight_layout()\n",
    "plt.show()\n",
    "    "
   ]
  },
  {
   "cell_type": "markdown",
   "id": "163b6659",
   "metadata": {},
   "source": [
    "\n",
    "    ## Prueba de Dickey-Fuller para Estacionariedad\n",
    "\n",
    "    Utilizamos la prueba de Dickey-Fuller aumentada para evaluar si la serie temporal es estacionaria.\n",
    "    "
   ]
  },
  {
   "cell_type": "code",
   "execution_count": null,
   "id": "8f614b05",
   "metadata": {},
   "outputs": [],
   "source": [
    "\n",
    "from statsmodels.tsa.stattools import adfuller\n",
    "\n",
    "# Prueba de Dickey-Fuller aumentada\n",
    "adf_test = adfuller(product_launches_per_year)\n",
    "\n",
    "# Resultados de la prueba\n",
    "adf_results = {\n",
    "    'Prueba Estadística': adf_test[0],\n",
    "    'P-valor': adf_test[1],\n",
    "    'Lags Utilizados': adf_test[2],\n",
    "    'Número de Observaciones': adf_test[3],\n",
    "    'Valores Críticos': adf_test[4]\n",
    "}\n",
    "adf_results\n",
    "    "
   ]
  },
  {
   "cell_type": "markdown",
   "id": "045201ad",
   "metadata": {},
   "source": [
    "\n",
    "    ## Análisis de Homocedasticidad\n",
    "\n",
    "    Evaluamos si la varianza de la serie temporal es constante a lo largo del tiempo.\n",
    "    "
   ]
  },
  {
   "cell_type": "code",
   "execution_count": null,
   "id": "c4a3f3b5",
   "metadata": {},
   "outputs": [],
   "source": [
    "\n",
    "import numpy as np\n",
    "\n",
    "# Calcular la varianza móvil\n",
    "rolling_var = product_launches_per_year.rolling(window=5).var()\n",
    "\n",
    "# Graficar la varianza móvil\n",
    "plt.figure(figsize=(10, 6))\n",
    "plt.plot(rolling_var)\n",
    "plt.title('Varianza Móvil de la Serie Temporal (Ventana de 5 Años)')\n",
    "plt.xlabel('Año')\n",
    "plt.ylabel('Varianza')\n",
    "plt.grid(True)\n",
    "plt.show()\n",
    "    "
   ]
  },
  {
   "cell_type": "markdown",
   "id": "fd0f0fe0",
   "metadata": {},
   "source": [
    "\n",
    "    ## Sugerencia de Modelo ARIMA\n",
    "\n",
    "    Basándonos en el análisis anterior, sugerimos un modelo ARIMA para modelar la serie temporal. También discutimos las ventajas y desventajas del modelo propuesto.\n",
    "    "
   ]
  },
  {
   "cell_type": "code",
   "execution_count": null,
   "id": "7d9ba94e",
   "metadata": {},
   "outputs": [],
   "source": [
    "\n",
    "from statsmodels.graphics.tsaplots import plot_acf, plot_pacf\n",
    "\n",
    "# Diferenciar la serie\n",
    "differenced_series = product_launches_per_year.diff().dropna()\n",
    "\n",
    "# Graficar ACF y PACF\n",
    "fig, (ax1, ax2) = plt.subplots(2, 1, figsize=(12, 8))\n",
    "plot_acf(differenced_series, ax=ax1, lags=10)\n",
    "plot_pacf(differenced_series, ax=ax2, lags=10)\n",
    "plt.tight_layout()\n",
    "plt.show()\n",
    "    "
   ]
  },
  {
   "cell_type": "markdown",
   "id": "05310481",
   "metadata": {},
   "source": [
    "\n",
    "    ### Conclusión y Ventajas/Desventajas del Modelo ARIMA\n",
    "\n",
    "    **Modelo Sugerido**: ARIMA(1,1,1)\n",
    "\n",
    "    **Ventajas**:\n",
    "    - Flexibilidad en el modelado de diferentes patrones temporales.\n",
    "    - Interpretabilidad de los parámetros.\n",
    "    - Adecuado para pronósticos a corto plazo.\n",
    "\n",
    "    **Desventajas**:\n",
    "    - Supone linealidad en las relaciones temporales.\n",
    "    - Sensible a outliers.\n",
    "    - Requiere estacionariedad de la serie.\n",
    "    - Puede no capturar relaciones complejas o no lineales.\n",
    "\n",
    "    Este modelo es un punto de partida y puede requerir ajustes según una evaluación más detallada.\n",
    "    "
   ]
  },
  {
   "cell_type": "code",
   "execution_count": null,
   "id": "3d7e038e",
   "metadata": {},
   "outputs": [],
   "source": [
    "# Calcular la varianza móvil con una ventana de 5 años\n",
    "rolling_var = product_launches_per_year.rolling(window=5).var()\n",
    "\n",
    "# Graficar la varianza móvil\n",
    "plt.figure(figsize=(10, 6))\n",
    "plt.plot(rolling_var)\n",
    "plt.title('Varianza Móvil de la Serie Temporal (Ventana de 5 Años)')\n",
    "plt.xlabel('Año')\n",
    "plt.ylabel('Varianza')\n",
    "plt.grid(True)\n",
    "plt.show()\n",
    "\n",
    "# Calcular y mostrar la varianza media\n",
    "mean_variance = np.mean(rolling_var)\n",
    "mean_variance"
   ]
  },
  {
   "cell_type": "markdown",
   "id": "0781bc82",
   "metadata": {},
   "source": [
    "### Análisis de ACF y PACF\n",
    "Realizamos los gráficos de Autocorrelación (ACF) y Autocorrelación Parcial (PACF) para determinar los valores adecuados para los parámetros \\(p\\) y \\(q\\) del modelo ARIMA."
   ]
  },
  {
   "cell_type": "code",
   "execution_count": null,
   "id": "475b33a7",
   "metadata": {},
   "outputs": [],
   "source": [
    "# Diferenciar la serie para obtener estacionariedad\n",
    "differenced_series = product_launches_per_year.diff().dropna()\n",
    "\n",
    "# Graficar ACF y PACF\n",
    "fig, (ax1, ax2) = plt.subplots(2, 1, figsize=(12, 8))\n",
    "\n",
    "# Autocorrelación (ACF)\n",
    "plot_acf(differenced_series, ax=ax1, lags=20)\n",
    "\n",
    "# Autocorrelación Parcial (PACF)\n",
    "plot_pacf(differenced_series, ax=ax2, lags=20)\n",
    "\n",
    "plt.tight_layout()\n",
    "plt.show()"
   ]
  },
  {
   "cell_type": "markdown",
   "id": "8d211fc5",
   "metadata": {},
   "source": [
    "### Propuesta del Modelo ARIMA\n",
    "Basado en el análisis anterior, proponemos un modelo ARIMA(1,1,1). Este modelo se elige considerando los resultados de la prueba de Dickey-Fuller, los gráficos de ACF y PACF, y la naturaleza de la serie temporal.\n",
    "\n",
    "**Ventajas y Desventajas del Modelo ARIMA(1,1,1)**:\n",
    "- **Ventajas**:\n",
    "  - Flexibilidad para capturar una variedad de patrones temporales.\n",
    "  - Interpretabilidad clara de los parámetros.\n",
    "  - Adecuado para pronósticos a corto plazo.\n",
    "- **Desventajas**:\n",
    "  - Supone una relación lineal entre las observaciones.\n",
    "  - Sensibilidad a outliers.\n",
    "  - Requiere estacionariedad.\n",
    "  - Puede no capturar relaciones complejas o no lineales."
   ]
  },
  {
   "cell_type": "markdown",
   "id": "0048fb58",
   "metadata": {},
   "source": [
    "### Propuesta del Modelo ARIMA\n",
    "Basado en el análisis anterior, proponemos un modelo ARIMA(1,1,1). Este modelo se sugiere debido a la necesidad de una diferenciación para lograr estacionariedad (d=1), y las observaciones en los gráficos de ACF y PACF sugieren p=1 y q=1.\n",
    "\n",
    "#### Ventajas y Desventajas del Modelo ARIMA(1,1,1)\n",
    "**Ventajas**:\n",
    "- Flexibilidad para modelar diferentes patrones temporales.\n",
    "- Interpretabilidad clara de los parámetros del modelo.\n",
    "- Adecuado para pronósticos a corto plazo.\n",
    "\n",
    "**Desventajas**:\n",
    "- Supone una relación lineal entre observaciones.\n",
    "- Sensible a outliers y anomalías.\n",
    "- Requiere estacionariedad de la serie.\n",
    "- Puede no ser adecuado para patrones complejos o no lineales.\n",
    "\n",
    "Es importante considerar estas ventajas y desventajas al aplicar el modelo ARIMA a este conjunto de datos."
   ]
  }
 ],
 "metadata": {},
 "nbformat": 4,
 "nbformat_minor": 5
}
